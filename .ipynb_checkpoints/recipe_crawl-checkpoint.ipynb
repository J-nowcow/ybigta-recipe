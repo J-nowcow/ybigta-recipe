{
 "cells": [
  {
   "cell_type": "code",
   "execution_count": 149,
   "metadata": {},
   "outputs": [],
   "source": [
    "import requests\n",
    "from bs4 import BeautifulSoup\n",
    "import time\n",
    "import urllib.request\n",
    "import re     \n",
    "\n",
    "import pandas as pd\n",
    "import numpy as np\n",
    "import time"
   ]
  },
  {
   "cell_type": "code",
   "execution_count": 2,
   "metadata": {},
   "outputs": [],
   "source": [
    "cat2 = {'전체':'', '일상':12,'초스피드':18,'손님접대':13,'술안주':19,'다이어트':21,'도시락':15,'영양식':43,'간식':17,'야식':45,'푸드스타일링':20,\n",
    "       '해장':46, '명절':44, '이유식':14, '기타':2}"
   ]
  },
  {
   "cell_type": "code",
   "execution_count": 79,
   "metadata": {},
   "outputs": [],
   "source": [
    "category_page = f'https://www.10000recipe.com/recipe/list.html?cat2={12}&order=reco&page={30}'\n",
    "\n",
    "r_big = requests.get(category_page)\n",
    "soup_big = BeautifulSoup(r_big.content, \"html.parser\")"
   ]
  },
  {
   "cell_type": "code",
   "execution_count": 129,
   "metadata": {},
   "outputs": [],
   "source": [
    "# num_of_recipe_in_category = int(soup_big.select('#contents_area_full > div.rcp_m_list2 > div.m_list_tit > b')[0].text.replace(',', ''))\n",
    "# page_view = num_of_recipe_in_category // 44\n",
    "\n",
    "# if page_view >= 500:\n",
    "#     page_view = 500\n",
    "\n",
    "# page_view = 3\n",
    "\n",
    "# for page in range(1, page_view+1):\n",
    "#     category_page = f'https://www.10000recipe.com/recipe/list.html?cat2={12}&order=reco&page={page}'\n",
    "#     r_big = requests.get(category_page)\n",
    "#     soup_big=BeautifulSoup(r_big.content, \"html.parser\")"
   ]
  },
  {
   "cell_type": "code",
   "execution_count": 161,
   "metadata": {
    "scrolled": true
   },
   "outputs": [
    {
     "name": "stdout",
     "output_type": "stream",
     "text": [
      "['백종원레시피로 만든 매운어묵볶음 간단한 밑반찬으로 딱이야 ~ ', '2인분', '10분 이내', '아무나', '사각어묵6장, 다진마늘1큰술, 양파1/2개, 대파1/2개, 식용유3큰술, 간장3큰술, 설탕1+1/2큰술, 물1/3컵(약65ml), 고춧가루1큰술, 참기름1큰술, 통깨적당량', '', '6869442', 'https://www.10000recipe.com/recipe/6869442']\n",
      "['중국풍 돼지볶음조림', '2인분', '30분 이내', '아무나', '진간장5T, 설탕6T, 쌀엿(물엿일경우3.5T)5T, 매실청5T, 청주1T, 굴소스4T, 마늘1t, 생강1t', '돼지고기목살600g, 양파1/2개, 파프리카2개, 양배추(1/4크기)5장, 소금, 후추, 참기름, 팔각', '6930581', 'https://www.10000recipe.com/recipe/6930581']\n",
      "['아삭아삭\\xa0달콤짭짤\\xa0백종원콩나물볶음밥', '2인분', '10분 이내', '아무나', '콩나물2줌, 당근1/2개, 대파1대, 밥2공기, 달걀2개', '', '6885253', 'https://www.10000recipe.com/recipe/6885253']\n",
      "['초간단 돼지고기 간장구이, 냉면에 곁들이면 좋은 달달짭쪼름 돼지고기', '2인분', '60분 이내', '초급', '돼지고기목살500g', '간장7T, 맛술3T, 설탕3T, 간마늘2T', '6855152', 'https://www.10000recipe.com/recipe/6855152']\n",
      "['상추비빔밥 명란무침올려 2배 맛있게!', '1인분', '15분 이내', '아무나', '꽃상추10장, 명란젓1쪽, 밥1인분, 달걀1개, 쪽파약간, 참기름0.5큰술', '간장0.5큰술, 설탕0.3큰술, 고춧가루0.3큰술, 멸치액젓0.3큰술, 참기름0.5큰술, 깨소금약간', '6912319', 'https://www.10000recipe.com/recipe/6912319']\n",
      "['NO가스렌지,매콤하게 부드러운 \"가지나물무침\"♪', '6인분 이상', '15분 이내', '아무나', '가지3개, 부추3가닥, 물3스푼', '진간장3스푼, 고춧가루2스푼, 다진마늘1/2스푼, 매실액기스1/2스푼, 참기름, 깨', '6850015', 'https://www.10000recipe.com/recipe/6850015']\n",
      "['콕콕 찍어 먹는 팝콘치킨 만들기', '초급', 'None', 'None', '닭가슴살300g, 튀김가루3큰술, 빵가루1/2컵, 달걀1/2개', '간장1작은술, 칠리소스2작은술, 청주2작은술, 올리브오일1작은술, 소금약간, 후추약간', '3602909', 'https://www.10000recipe.com/recipe/3602909']\n",
      "['[반찬] 매콤달콤, 짭쪼름한 \"감자조림\"♪', '3인분', '30분 이내', '아무나', '감자(중간크기)3개, 양파1/2개, 당근, 대파, 청양고추, 깨', '간장3스푼, 다진마늘1스푼, 올리고당1스푼, 물1컵(소주잔), 참기름', '6832048', 'https://www.10000recipe.com/recipe/6832048']\n",
      "['백종원의 양념장 3종 세트 - 집밥백선생 13회 ', '6인분 이상', '15분 이내', '아무나', '파, 청양고추, 빨간고추, 간마늘1숟갈, 고춧가루1숟갈, 설탕1/2소주컵, 깨소금1/2소주컵, 간장1+1/2숟갈, 참기름, 고춧가루1숟갈, 마늘종', '', '6839461', 'https://www.10000recipe.com/recipe/6839461']\n",
      "[\"우선 밥 3공기를 준비하세요. 밥도둑 '전참찌' 만들기 + 먹방ㅣ전자렌지 5분! 고추참치 찌개\", '1인분', '10분 이내', '아무나', '고추참치1캔(150g), 스팸1/2개, 고추장1/2T, 다진마늘1T, 간장1T, 물200ml', '', '6902690', 'https://www.10000recipe.com/recipe/6902690']\n",
      "6867904 ingredients 변수의 길이가 2를 넘습니다\n",
      "['【쉽게쉽게】젓갈없이 깔끔한 백김치 만들기~', '6인분 이상', '2시간 이상', '아무나', '배추1포기, 무1/2개, 쪽파10줄기, 당근1/2개, 홍고추4개', '천일염8주먹', '6867904', 'https://www.10000recipe.com/recipe/6867904']\n",
      "['백종원의 대패 두루치기 - 집밥백선생3 5회', '3인분', '30분 이내', '아무나', '대패삼겹살600g, 편마늘, 양배추파무침', '진간장1/2컵, 물1/2컵, 맛술1/2컵, 설탕1숟갈', '6866870', 'https://www.10000recipe.com/recipe/6866870']\n",
      "['집밥백선생~참치맛나니비빔밥', '1인분', '30분 이내', '아무나', '참치1캔, 다진양파1컵, 진간장1/3컵, 간마늘1숟갈, 설탕1숟갈, 깨소금1숟갈, 밥1인분, 달걀1개, 김가루약간, 참기름약간', '', '6869491', 'https://www.10000recipe.com/recipe/6869491']\n",
      "['들기름 넣고 매운 감자조림~~', '4인분', '30분 이내', '아무나', '감자중4개(600g), 들기름2~3큰술, 고추장3큰술, 간장1.5큰술, 다진마늘1큰술, 설탕1큰술, 올리고당1큰술, 물300ml', '', '6864535', 'https://www.10000recipe.com/recipe/6864535']\n",
      "['느므 마이쩌 옥수수 치즈 스콘 ! ', '5인분', '60분 이내', '아무나', '박력분240g, 크림치즈145g, 스위트콘140g, 생크림140g, 설탕40g, 파마산치즈가루26g, 베이킹파우더2g, 베이킹소다2g', '', '6928676', 'https://www.10000recipe.com/recipe/6928676']\n",
      "['전자레인지로 간단한요리 ! 참치달걀죽', '1인분', '10분 이내', '아무나', 'out_of_crawl_code', 'out_of_crawl_code', '6908895', 'https://www.10000recipe.com/recipe/6908895']\n",
      "['[간단 자취요리] 참치캔 요리! 참치 빠다밥 (참치버터밥) 만들기', '1인분', '30분 이내', '아무나', '참치작은캔1개, 양파1/4개, 버터1T', '간장1T, 설탕1/2T, 다진마늘1/2T, 물100ml(약종이컵반컵)', '6864610', 'https://www.10000recipe.com/recipe/6864610']\n",
      "['맵지 않게 아이들도 함께 먹는 간장베이스 쭈꾸미볶음 만들기', '4인분', '30분 이내', '아무나', '쭈꾸미15~20마리, 양파1/2개, 애호박1/3개, 당근1/3개, 다진대파1/2컵, 미나리1줌, 밀가루2수저, 카놀라유3큰술', '간장2큰술, 굴소스1큰술, 다진마늘1수저, 고춧가루1/2수저, 올리고당1수저, 후추, 생강가루1꼬집, 통깨, 참기름1수저', '6913875', 'https://www.10000recipe.com/recipe/6913875']\n",
      "['백종원 대패두부조림 만드는법 이건 꼭 먹어봐야해', '2인분', '30분 이내', '아무나', '두부1모, 대패삼겹살300g, 대파1대, 청양고추1개, 홍고추1개다진마늘1Ts', '고춧가루2Ts, 설탕1Ts, 깨소금2Ts, 간장3Ts, 물200ml, 들기름2Ts, 액젓1Ts\\u200b', '6908646', 'https://www.10000recipe.com/recipe/6908646']\n",
      "['간단 한그릇 스팸마요덮밥', '1인분', '10분 이내', '초급', '스팸1/3캔, 밥1공기, 양파1/3개, 계란1개, 간장1스푼, 올리고당1스푼, 맛술1스푼, 마요네즈적당량', '', '6895546', 'https://www.10000recipe.com/recipe/6895546']\n",
      "['초간단 일본식 계란 덮밥, 텐신항, 텐신동', '1인분', '30분 이내', '초급', '밥1공기, 달걀2개, 다진파2T, 오일1T', '물200ml, 간장1T, 설탕1T, 식초1.5T, 미림1T, 굴소스1t, 치킨스톡파우더(or혼다시등조미료)1t, 전분2t', '6829107', 'https://www.10000recipe.com/recipe/6829107']\n",
      "['한 그릇 요리 : 버터 마늘 볶음밥 / butter garlic fried rice ', '1인분', '10분 이내', '아무나', '마늘10톨, 식용유2Ts, 쌀밥200g, 굴소스1Ts, 버터10g', '', '6919707', 'https://www.10000recipe.com/recipe/6919707']\n",
      "['아이들 국추천 오징어무국 만드는법 ', '3인분', '30분 이내', '초급', '오징어1마리, 무5cm한토막, 대파1뿌리, 홍고추1개', '액젓2큰술, 국간장3큰술, 다진마늘1큰술, 물7컵(1.1L), 들기름3큰술', '6901493', 'https://www.10000recipe.com/recipe/6901493']\n",
      "['중국식계란탕! 크래미 넣은 게살스프(부드러운 계란국)', '4인분', '15분 이내', '아무나', '크래미8개, 팽이버섯1봉지, 달걀2개, 파조금, 고형치킨스톡1개, 국간장1큰술, 물1L', '전분가루2큰술, 물2큰술', '6904222', 'https://www.10000recipe.com/recipe/6904222']\n",
      "['촉촉 부들~ 식빵 만들기:)', '3인분', '2시간 이상', '초급', '강력분300g, 우유230g, 버터15g, 소금5g, 인스턴트드라이이스트4g', '', '6931443', 'https://www.10000recipe.com/recipe/6931443']\n",
      "['열무비빔국수', '1인분', '15분 이내', '아무나', '열무김치1줌, 소면1인분, 삶은계란1/2개', '고추장1큰술, 고춧가루1/2큰술, 설탕1큰술, 매실액1큰술, 간장1큰술, 식초1큰술, 참기름1/2큰술', '6852726', 'https://www.10000recipe.com/recipe/6852726']\n",
      "['고추장 참치김치볶음 계란말이', '2인분', '30분 이내', '초급', '참치80g, 김치잎2~3장, 다진양파3큰술, 다진파2큰술, 달걀3개', '고추장1/2큰술, 매실액1작은술, 김치국물2큰술, 식용유조금', '4123616', 'https://www.10000recipe.com/recipe/4123616']\n",
      "['백주부표 얼큰 콩나물 찌개로 밥한공기 뚝딱!^^', '4인분', '30분 이내', '초급', '콩나물1/2냄비, 돼지고기1종이컵(1컵200g), 양파1/2개, 물4종이컵', '고추가루1소주컵, 간장1/2소주컵, 새우젓또는멸치액젓1/2소주컵, 대파1~2대, 마늘1스푼, 청양고추1개', '6833358', 'https://www.10000recipe.com/recipe/6833358']\n",
      "['닭봉 & 윙 조림~ 달큰한 소스에 조려진 맛있는 닭봉 &윙~', '3인분', '30분 이내', '초급', '닭봉9개, 닭윙13개', '간장10스푼, 설탕4스푼, 생강가루1/4스푼, 미림3스푼, 다진파2큰술, 다진마늘1큰술, 굴소스1스푼, 물엿2스푼, 참기름1스푼, 물50cc', '6923838', 'https://www.10000recipe.com/recipe/6923838']\n",
      "['저녁을 푸짐하게 양송이 참치덮밥', '1인분', '15분 이내', '초급', '밥1공기, 양송이4개, 참치캔1/2개, 양파1/3개, 다진마늘1큰술, 대파1/2대, 올리브유1큰술', '간장3큰술, 물1/3컵, 고추가루1작은술, 맛술1큰술, 후추약간', '1808201', 'https://www.10000recipe.com/recipe/1808201']\n",
      "['전자레인지계란밥', '1인분', '15분 이내', '아무나', '물1컵, 달걀2개, 즉석밥1개, 양파1/4개, 햄2쪽, 파1/3개', '', '6875356', 'https://www.10000recipe.com/recipe/6875356']\n",
      "['영양만점! 브로콜리야채전', '5인분', '30분 이내', '초급', '브로콜리1개, 양파1/2개, 당근1/4개, 삶은옥수수1개, 청양고추2개, 계란2개, 부침가루3~4T', '소금약간, 후추약간', '6875956', 'https://www.10000recipe.com/recipe/6875956']\n",
      "['두반장 활용 요리 / 두반장 볶음밥', '2인분', '10분 이내', '아무나', '간돼지고기30g, 다진마늘1/2Ts, 소금1꼬집, 후춧가루1꼬집, 대파1/2대, 당근1/3개, 식용유2Ts, 두반장1Ts, 밥180g, 참기름1ts', '', '6924883', 'https://www.10000recipe.com/recipe/6924883']\n",
      "['두부강정 만들기', '초급', 'None', 'None', '두부1모, 소금약간, 후춧가루약간, 감자전분적당량, 해바라기씨1줌, 홍피망1/4개', '집고추장2Ts, 간장1+1/2Ts, 비정제황설탕2Ts, 꿀2Ts, 맛술1Ts', '3991555', 'https://www.10000recipe.com/recipe/3991555']\n",
      "['간편레시피 콩나물불고기', '2인분', '30분 이내', '중급', '고기400g, 콩나물1봉지, 양파1개, 파약간', '고추장3큰술, 고춧가루3큰술, 간장3큰술, 다진마늘1큰술, 설탕(or매실액)1큰술, 물4큰술, 참기름1/2큰술', '6830408', 'https://www.10000recipe.com/recipe/6830408']\n",
      "['백종원의 콩나물전 - 집밥백선생3 4회', '2인분', '30분 이내', '아무나', '콩나물1주먹, 간마늘1/2숟갈, 새우젓1숟갈, 청양고추2개, 부침가루3숟갈, 물1/3컵, 식용유', '김가루', '6866476', 'https://www.10000recipe.com/recipe/6866476']\n",
      "['굴소스 새우볶음밥 만드는 법 , 아이도 신랑도 좋아해요~', '2인분', '15분 이내', '아무나', '다진대파1주먹, 당근1/3개, 호박1/4개, 양파1/2개, 달걀1개', '굴소스1T, 공기밥취향것, 후추톡톡, 소금1꼬집, 진간장1T', '6874928', 'https://www.10000recipe.com/recipe/6874928']\n",
      "['된장깻잎지 진정한 밥도둑 발견~', '2인분', '15분 이내', '초급', '깻잎60매, 된장3T, 다진마늘1T, 대파1줌, 설탕1.5T, 깨소금1T, 다진고추1/2개, 참기름1T, 사과주스2T, 소금1T', '', '6892777', 'https://www.10000recipe.com/recipe/6892777']\n",
      "['아이반찬 버섯 밥전 밥먹기 싫어할 때 좋아요', '2인분', '30분 이내', '초급', '밥1공기, 만가닥버섯2줌, 달걀2개, 양파1/3개, 파프리카1/3개', '소금3꼬집, 후춧가루톡3번', '6901393', 'https://www.10000recipe.com/recipe/6901393']\n",
      "['소고기 케첩 덮밥 , 독특한 풍미의 덮밥요리 :)', '1인분', '15분 이내', '초급', '소고기(부위상관없음)150g, 새송이버섯1개, 당근조금, 대파1뿌리, 양파1/4개, 청양고추1~2개, 달걀1개', '다진마늘1스푼, 맛술1스푼, 토마토케첩3스푼, 돈까스소스1스푼, 버터1스푼, 설탕(꿀)약간, 식용유적당량, 소금약간, 후추약간, 파마산치즈가루(생략가능)약간, 물100ml', '6841295', 'https://www.10000recipe.com/recipe/6841295']\n"
     ]
    }
   ],
   "source": [
    "id_num_list = []\n",
    "food_list = soup_big.select('#contents_area_full > div.rcp_m_list2 > div.row')[0].find_all('div')\n",
    "\n",
    "for food in food_list:\n",
    "    try:\n",
    "        id_num = food.find('a', {'class':'thumbnail'}).attrs['href'].split('/')[-1]\n",
    "        id_num_list.append(id_num)\n",
    "    except:\n",
    "        pass\n",
    "    \n",
    "id_num_list = list(set(id_num_list))\n",
    "\n",
    "for id_num in id_num_list[0:40]:\n",
    "    \n",
    "    url = f'https://www.10000recipe.com/recipe/{id_num}'\n",
    "    r = requests.get(url)\n",
    "    soup=BeautifulSoup(r.content, \"html.parser\")\n",
    "\n",
    "    basic_info = soup.select('#contents_area > div.view2_summary > div.view2_summary_info')[0].find_all('span')\n",
    "    ingredients = soup.select('#divConfirmedMaterialArea > ul')\n",
    "    \n",
    "    \n",
    "    title = soup.find('title').text\n",
    "    try:\n",
    "        amount = basic_info[0].text\n",
    "    except:\n",
    "        amount = 'None'\n",
    "    try:\n",
    "        duration = basic_info[1].text\n",
    "    except:\n",
    "        duration = 'None'\n",
    "    try:\n",
    "        level = basic_info[2].text\n",
    "    except:\n",
    "        level = 'None'\n",
    "    \n",
    "    temp_material = []\n",
    "    temp_seasoning = []\n",
    "    \n",
    "    try:\n",
    "        if len(ingredients) > 2:\n",
    "            print(f'{id_num} ingredients 변수의 길이가 2를 넘습니다')\n",
    "\n",
    "        for material in ingredients[0].find_all('li'):\n",
    "            temp_material.append(material.text.replace('\\n', \" \").replace(\" \",\"\"))\n",
    "        temp_material = ', '.join(temp_material)\n",
    "\n",
    "        try:\n",
    "            for seasoning in ingredients[1].find_all('li'):\n",
    "                temp_seasoning.append(seasoning.text.replace('\\n', \" \").replace(\" \",\"\"))\n",
    "\n",
    "            temp_seasoning = ', '.join(temp_seasoning)\n",
    "        except:\n",
    "            temp_seasoning = ''\n",
    "    except:\n",
    "        temp_material = 'out_of_crawl_code'\n",
    "        temp_seasoning = 'out_of_crawl_code'\n",
    "        \n",
    "    row = [title, amount, duration, level, temp_material, temp_seasoning, id_num, url]\n",
    "    print(row)\n",
    "    print('\\n')\n",
    "    time.sleep(0.5)"
   ]
  },
  {
   "cell_type": "code",
   "execution_count": null,
   "metadata": {},
   "outputs": [],
   "source": []
  },
  {
   "cell_type": "code",
   "execution_count": 125,
   "metadata": {},
   "outputs": [],
   "source": [
    "url = f'https://www.10000recipe.com/recipe/{id_num}'\n",
    "r = requests.get(url)\n",
    "soup=BeautifulSoup(r.content, \"html.parser\")\n",
    "\n",
    "basic_info = soup.select('#contents_area > div.view2_summary > div.view2_summary_info')[0].find_all('span')\n",
    "ingredients = soup.select('#divConfirmedMaterialArea > ul')"
   ]
  },
  {
   "cell_type": "code",
   "execution_count": 56,
   "metadata": {},
   "outputs": [],
   "source": [
    "title = soup.find('title').text\n",
    "amount = basic_info[0].text\n",
    "time = basic_info[1].text\n",
    "level = basic_info[2].text\n",
    "\n",
    "temp_material = []\n",
    "temp_seasoning = []\n",
    "\n",
    "for material in ingredients[0].find_all('li'):\n",
    "    temp_material.append(material.text.replace('\\n', \" \").replace(\" \",\"\"))\n",
    "temp_material = ', '.join(temp_material)\n",
    "\n",
    "for seasoning in ingredients[1].find_all('li'):\n",
    "    temp_seasoning.append(seasoning.text.replace('\\n', \" \").replace(\" \",\"\"))\n",
    "temp_seasoning = ', '.join(temp_seasoning)\n",
    "\n",
    "\n",
    "row = [title, amount, time, level, temp_material, temp_seasoning, id_num, url]\n",
    "row"
   ]
  },
  {
   "cell_type": "code",
   "execution_count": null,
   "metadata": {},
   "outputs": [],
   "source": []
  }
 ],
 "metadata": {
  "kernelspec": {
   "display_name": "Python 3",
   "language": "python",
   "name": "python3"
  },
  "language_info": {
   "codemirror_mode": {
    "name": "ipython",
    "version": 3
   },
   "file_extension": ".py",
   "mimetype": "text/x-python",
   "name": "python",
   "nbconvert_exporter": "python",
   "pygments_lexer": "ipython3",
   "version": "3.7.4"
  }
 },
 "nbformat": 4,
 "nbformat_minor": 4
}
